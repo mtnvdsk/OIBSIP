{
 "cells": [
  {
   "cell_type": "code",
   "execution_count": 8,
   "id": "d90743c5",
   "metadata": {
    "collapsed": true
   },
   "outputs": [
    {
     "name": "stdout",
     "output_type": "stream",
     "text": [
      "Requirement already satisfied: matplotlib in c:\\users\\mtnvd\\appdata\\local\\programs\\python\\python310\\lib\\site-packages (3.7.0)\n",
      "Requirement already satisfied: numpy>=1.20 in c:\\users\\mtnvd\\appdata\\local\\programs\\python\\python310\\lib\\site-packages (from matplotlib) (1.24.2)\n",
      "Requirement already satisfied: pillow>=6.2.0 in c:\\users\\mtnvd\\appdata\\local\\programs\\python\\python310\\lib\\site-packages (from matplotlib) (9.4.0)\n",
      "Requirement already satisfied: pyparsing>=2.3.1 in c:\\users\\mtnvd\\appdata\\local\\programs\\python\\python310\\lib\\site-packages (from matplotlib) (3.0.9)\n",
      "Requirement already satisfied: fonttools>=4.22.0 in c:\\users\\mtnvd\\appdata\\local\\programs\\python\\python310\\lib\\site-packages (from matplotlib) (4.38.0)\n",
      "Requirement already satisfied: contourpy>=1.0.1 in c:\\users\\mtnvd\\appdata\\local\\programs\\python\\python310\\lib\\site-packages (from matplotlib) (1.0.7)\n",
      "Requirement already satisfied: cycler>=0.10 in c:\\users\\mtnvd\\appdata\\local\\programs\\python\\python310\\lib\\site-packages (from matplotlib) (0.11.0)\n",
      "Requirement already satisfied: python-dateutil>=2.7 in c:\\users\\mtnvd\\appdata\\local\\programs\\python\\python310\\lib\\site-packages (from matplotlib) (2.8.2)\n",
      "Requirement already satisfied: packaging>=20.0 in c:\\users\\mtnvd\\appdata\\local\\programs\\python\\python310\\lib\\site-packages (from matplotlib) (23.0)\n",
      "Requirement already satisfied: kiwisolver>=1.0.1 in c:\\users\\mtnvd\\appdata\\local\\programs\\python\\python310\\lib\\site-packages (from matplotlib) (1.4.4)\n",
      "Requirement already satisfied: six>=1.5 in c:\\users\\mtnvd\\appdata\\local\\programs\\python\\python310\\lib\\site-packages (from python-dateutil>=2.7->matplotlib) (1.16.0)\n",
      "Requirement already satisfied: numpy in c:\\users\\mtnvd\\appdata\\local\\programs\\python\\python310\\lib\\site-packages (1.24.2)\n",
      "Collecting scikit-learn\n",
      "  Downloading scikit_learn-1.2.1-cp310-cp310-win_amd64.whl (8.3 MB)\n",
      "     ---------------------------------------- 0.0/8.3 MB ? eta -:--:--\n",
      "     --- ------------------------------------ 0.7/8.3 MB 14.8 MB/s eta 0:00:01\n",
      "     ------ --------------------------------- 1.4/8.3 MB 18.0 MB/s eta 0:00:01\n",
      "     --------- ------------------------------ 1.9/8.3 MB 15.4 MB/s eta 0:00:01\n",
      "     ---------- ----------------------------- 2.3/8.3 MB 12.1 MB/s eta 0:00:01\n",
      "     ------------ --------------------------- 2.6/8.3 MB 10.9 MB/s eta 0:00:01\n",
      "     ------------- -------------------------- 2.9/8.3 MB 10.1 MB/s eta 0:00:01\n",
      "     -------------- ------------------------- 3.0/8.3 MB 9.6 MB/s eta 0:00:01\n",
      "     --------------- ------------------------ 3.3/8.3 MB 9.2 MB/s eta 0:00:01\n",
      "     ----------------- ---------------------- 3.7/8.3 MB 8.7 MB/s eta 0:00:01\n",
      "     ------------------ --------------------- 3.9/8.3 MB 8.3 MB/s eta 0:00:01\n",
      "     -------------------- ------------------- 4.2/8.3 MB 8.4 MB/s eta 0:00:01\n",
      "     --------------------- ------------------ 4.5/8.3 MB 8.2 MB/s eta 0:00:01\n",
      "     ----------------------- ---------------- 4.8/8.3 MB 8.0 MB/s eta 0:00:01\n",
      "     ------------------------ --------------- 5.1/8.3 MB 7.9 MB/s eta 0:00:01\n",
      "     ------------------------- -------------- 5.2/8.3 MB 7.6 MB/s eta 0:00:01\n",
      "     -------------------------- ------------- 5.4/8.3 MB 7.2 MB/s eta 0:00:01\n",
      "     --------------------------- ------------ 5.6/8.3 MB 7.0 MB/s eta 0:00:01\n",
      "     ---------------------------- ----------- 5.8/8.3 MB 6.9 MB/s eta 0:00:01\n",
      "     ---------------------------- ----------- 5.8/8.3 MB 6.9 MB/s eta 0:00:01\n",
      "     ---------------------------- ----------- 5.8/8.3 MB 6.9 MB/s eta 0:00:01\n",
      "     ---------------------------- ----------- 5.8/8.3 MB 6.9 MB/s eta 0:00:01\n",
      "     ---------------------------- ----------- 5.8/8.3 MB 6.9 MB/s eta 0:00:01\n",
      "     ---------------------------- ----------- 5.8/8.3 MB 6.9 MB/s eta 0:00:01\n",
      "     ---------------------------- ----------- 5.8/8.3 MB 6.9 MB/s eta 0:00:01\n",
      "     ---------------------------- ----------- 5.8/8.3 MB 6.9 MB/s eta 0:00:01\n",
      "     ---------------------------- ----------- 5.9/8.3 MB 4.8 MB/s eta 0:00:01\n",
      "     ----------------------------- ---------- 6.0/8.3 MB 4.8 MB/s eta 0:00:01\n",
      "     ------------------------------ --------- 6.2/8.3 MB 4.7 MB/s eta 0:00:01\n",
      "     ------------------------------- -------- 6.5/8.3 MB 4.8 MB/s eta 0:00:01\n",
      "     -------------------------------- ------- 6.8/8.3 MB 4.8 MB/s eta 0:00:01\n",
      "     ---------------------------------- ----- 7.1/8.3 MB 4.9 MB/s eta 0:00:01\n",
      "     ------------------------------------ --- 7.6/8.3 MB 5.0 MB/s eta 0:00:01\n",
      "     ---------------------------------------  8.1/8.3 MB 5.3 MB/s eta 0:00:01\n",
      "     ---------------------------------------  8.3/8.3 MB 5.3 MB/s eta 0:00:01\n",
      "     ---------------------------------------- 8.3/8.3 MB 5.1 MB/s eta 0:00:00\n",
      "Requirement already satisfied: numpy>=1.17.3 in c:\\users\\mtnvd\\appdata\\local\\programs\\python\\python310\\lib\\site-packages (from scikit-learn) (1.24.2)\n",
      "Collecting joblib>=1.1.1\n",
      "  Downloading joblib-1.2.0-py3-none-any.whl (297 kB)\n",
      "     ---------------------------------------- 0.0/298.0 kB ? eta -:--:--\n",
      "     ------------------------------------- 298.0/298.0 kB 18.0 MB/s eta 0:00:00\n",
      "Collecting scipy>=1.3.2\n",
      "  Downloading scipy-1.10.0-cp310-cp310-win_amd64.whl (42.5 MB)\n",
      "     ---------------------------------------- 0.0/42.5 MB ? eta -:--:--\n",
      "      --------------------------------------- 0.7/42.5 MB 15.0 MB/s eta 0:00:03\n",
      "     - -------------------------------------- 1.5/42.5 MB 15.8 MB/s eta 0:00:03\n",
      "     - -------------------------------------- 2.0/42.5 MB 16.3 MB/s eta 0:00:03\n",
      "     -- ------------------------------------- 2.3/42.5 MB 12.2 MB/s eta 0:00:04\n",
      "     -- ------------------------------------- 2.5/42.5 MB 12.2 MB/s eta 0:00:04\n",
      "     -- ------------------------------------- 2.8/42.5 MB 10.1 MB/s eta 0:00:04\n",
      "     -- ------------------------------------- 3.1/42.5 MB 9.4 MB/s eta 0:00:05\n",
      "     --- ------------------------------------ 3.3/42.5 MB 9.3 MB/s eta 0:00:05\n",
      "     --- ------------------------------------ 3.5/42.5 MB 9.0 MB/s eta 0:00:05\n",
      "     --- ------------------------------------ 3.5/42.5 MB 9.0 MB/s eta 0:00:05\n",
      "     --- ------------------------------------ 3.5/42.5 MB 9.0 MB/s eta 0:00:05\n",
      "     --- ------------------------------------ 3.5/42.5 MB 9.0 MB/s eta 0:00:05\n",
      "     --- ------------------------------------ 3.5/42.5 MB 9.0 MB/s eta 0:00:05\n",
      "     --- ------------------------------------ 3.5/42.5 MB 9.0 MB/s eta 0:00:05\n",
      "     --- ------------------------------------ 3.5/42.5 MB 9.0 MB/s eta 0:00:05\n",
      "     --- ------------------------------------ 3.5/42.5 MB 9.0 MB/s eta 0:00:05\n",
      "     --- ------------------------------------ 3.5/42.5 MB 4.6 MB/s eta 0:00:09\n",
      "     --- ------------------------------------ 3.6/42.5 MB 4.4 MB/s eta 0:00:09\n",
      "     --- ------------------------------------ 3.7/42.5 MB 4.2 MB/s eta 0:00:10\n",
      "     --- ------------------------------------ 3.8/42.5 MB 4.2 MB/s eta 0:00:10\n",
      "     --- ------------------------------------ 4.0/42.5 MB 4.1 MB/s eta 0:00:10\n",
      "     --- ------------------------------------ 4.2/42.5 MB 4.1 MB/s eta 0:00:10\n",
      "     ---- ----------------------------------- 4.4/42.5 MB 4.1 MB/s eta 0:00:10\n",
      "     ---- ----------------------------------- 4.6/42.5 MB 4.2 MB/s eta 0:00:10\n",
      "     ---- ----------------------------------- 4.8/42.5 MB 4.2 MB/s eta 0:00:10\n",
      "     ---- ----------------------------------- 5.1/42.5 MB 4.2 MB/s eta 0:00:09\n",
      "     ----- ---------------------------------- 5.4/42.5 MB 4.3 MB/s eta 0:00:09\n",
      "     ----- ---------------------------------- 5.8/42.5 MB 4.5 MB/s eta 0:00:09\n",
      "     ----- ---------------------------------- 6.3/42.5 MB 4.7 MB/s eta 0:00:08\n",
      "     ------ --------------------------------- 6.9/42.5 MB 4.9 MB/s eta 0:00:08\n",
      "     ------ --------------------------------- 7.3/42.5 MB 5.1 MB/s eta 0:00:07\n",
      "     ------- -------------------------------- 7.5/42.5 MB 5.2 MB/s eta 0:00:07\n",
      "     ------- -------------------------------- 7.5/42.5 MB 5.2 MB/s eta 0:00:07\n",
      "     ------- -------------------------------- 7.5/42.5 MB 5.2 MB/s eta 0:00:07\n",
      "     ------- -------------------------------- 7.5/42.5 MB 5.2 MB/s eta 0:00:07\n",
      "     ------- -------------------------------- 7.5/42.5 MB 5.2 MB/s eta 0:00:07\n",
      "     ------- -------------------------------- 7.5/42.5 MB 5.2 MB/s eta 0:00:07\n",
      "     ------- -------------------------------- 7.5/42.5 MB 5.2 MB/s eta 0:00:07\n",
      "     ------- -------------------------------- 7.5/42.5 MB 5.2 MB/s eta 0:00:07\n",
      "     ------- -------------------------------- 7.5/42.5 MB 4.0 MB/s eta 0:00:09\n",
      "     ------- -------------------------------- 7.7/42.5 MB 4.0 MB/s eta 0:00:09\n",
      "     ------- -------------------------------- 8.0/42.5 MB 4.1 MB/s eta 0:00:09\n",
      "     ------- -------------------------------- 8.3/42.5 MB 4.1 MB/s eta 0:00:09\n",
      "     -------- ------------------------------- 8.6/42.5 MB 4.2 MB/s eta 0:00:09\n",
      "     -------- ------------------------------- 9.1/42.5 MB 4.3 MB/s eta 0:00:08\n",
      "     -------- ------------------------------- 9.5/42.5 MB 4.4 MB/s eta 0:00:08\n",
      "     --------- ------------------------------ 10.1/42.5 MB 4.6 MB/s eta 0:00:08\n",
      "     --------- ------------------------------ 10.5/42.5 MB 4.6 MB/s eta 0:00:07\n",
      "     ---------- ----------------------------- 11.0/42.5 MB 4.6 MB/s eta 0:00:07\n",
      "     ---------- ----------------------------- 11.3/42.5 MB 4.5 MB/s eta 0:00:07\n",
      "     ---------- ----------------------------- 11.5/42.5 MB 4.5 MB/s eta 0:00:07\n",
      "     ----------- ---------------------------- 11.7/42.5 MB 4.4 MB/s eta 0:00:08\n",
      "     ----------- ---------------------------- 11.9/42.5 MB 4.3 MB/s eta 0:00:08\n",
      "     ----------- ---------------------------- 12.0/42.5 MB 4.3 MB/s eta 0:00:08\n",
      "     ----------- ---------------------------- 12.0/42.5 MB 4.3 MB/s eta 0:00:08\n",
      "     ----------- ---------------------------- 12.0/42.5 MB 4.3 MB/s eta 0:00:08\n",
      "     ----------- ---------------------------- 12.0/42.5 MB 4.3 MB/s eta 0:00:08\n",
      "     ----------- ---------------------------- 12.0/42.5 MB 4.3 MB/s eta 0:00:08\n",
      "     ----------- ---------------------------- 12.0/42.5 MB 4.3 MB/s eta 0:00:08\n",
      "     ----------- ---------------------------- 12.0/42.5 MB 4.3 MB/s eta 0:00:08\n",
      "     ----------- ---------------------------- 12.1/42.5 MB 3.8 MB/s eta 0:00:09\n",
      "     ----------- ---------------------------- 12.3/42.5 MB 3.7 MB/s eta 0:00:09\n",
      "     ----------- ---------------------------- 12.5/42.5 MB 3.7 MB/s eta 0:00:09\n",
      "     ----------- ---------------------------- 12.7/42.5 MB 3.7 MB/s eta 0:00:09\n",
      "     ------------ --------------------------- 12.9/42.5 MB 3.7 MB/s eta 0:00:08\n",
      "     ------------ --------------------------- 13.1/42.5 MB 3.7 MB/s eta 0:00:09\n",
      "     ------------ --------------------------- 13.4/42.5 MB 3.7 MB/s eta 0:00:08\n",
      "     ------------ --------------------------- 13.6/42.5 MB 3.7 MB/s eta 0:00:08\n",
      "     ------------- -------------------------- 13.9/42.5 MB 4.4 MB/s eta 0:00:07\n",
      "     ------------- -------------------------- 14.2/42.5 MB 4.5 MB/s eta 0:00:07\n",
      "     ------------- -------------------------- 14.6/42.5 MB 4.5 MB/s eta 0:00:07\n",
      "     ------------- -------------------------- 14.9/42.5 MB 4.6 MB/s eta 0:00:07\n",
      "     -------------- ------------------------- 15.2/42.5 MB 4.7 MB/s eta 0:00:06\n",
      "     -------------- ------------------------- 15.6/42.5 MB 4.7 MB/s eta 0:00:06\n",
      "     --------------- ------------------------ 15.9/42.5 MB 4.6 MB/s eta 0:00:06\n",
      "     --------------- ------------------------ 16.3/42.5 MB 4.6 MB/s eta 0:00:06\n",
      "     --------------- ------------------------ 16.6/42.5 MB 4.6 MB/s eta 0:00:06\n",
      "     --------------- ------------------------ 16.6/42.5 MB 4.6 MB/s eta 0:00:06\n",
      "     --------------- ------------------------ 16.6/42.5 MB 4.6 MB/s eta 0:00:06\n",
      "     --------------- ------------------------ 16.6/42.5 MB 4.6 MB/s eta 0:00:06\n",
      "     --------------- ------------------------ 16.6/42.5 MB 4.6 MB/s eta 0:00:06\n",
      "     --------------- ------------------------ 16.6/42.5 MB 4.6 MB/s eta 0:00:06\n",
      "     --------------- ------------------------ 16.6/42.5 MB 4.6 MB/s eta 0:00:06\n",
      "     --------------- ------------------------ 16.6/42.5 MB 4.0 MB/s eta 0:00:07\n",
      "     --------------- ------------------------ 16.7/42.5 MB 3.9 MB/s eta 0:00:07\n",
      "     --------------- ------------------------ 16.8/42.5 MB 3.9 MB/s eta 0:00:07\n",
      "     ---------------- ----------------------- 17.0/42.5 MB 3.9 MB/s eta 0:00:07\n",
      "     ---------------- ----------------------- 17.2/42.5 MB 3.8 MB/s eta 0:00:07\n",
      "     ---------------- ----------------------- 17.4/42.5 MB 3.8 MB/s eta 0:00:07\n",
      "     ---------------- ----------------------- 17.7/42.5 MB 3.7 MB/s eta 0:00:07\n",
      "     ---------------- ----------------------- 17.9/42.5 MB 4.4 MB/s eta 0:00:06\n",
      "     ----------------- ---------------------- 18.1/42.5 MB 4.4 MB/s eta 0:00:06\n",
      "     ----------------- ---------------------- 18.4/42.5 MB 4.4 MB/s eta 0:00:06\n",
      "     ----------------- ---------------------- 18.6/42.5 MB 4.3 MB/s eta 0:00:06\n",
      "     ----------------- ---------------------- 18.9/42.5 MB 4.3 MB/s eta 0:00:06\n",
      "     ------------------ --------------------- 19.2/42.5 MB 4.3 MB/s eta 0:00:06\n",
      "     ------------------ --------------------- 19.5/42.5 MB 4.3 MB/s eta 0:00:06\n",
      "     ------------------ --------------------- 19.8/42.5 MB 4.2 MB/s eta 0:00:06\n",
      "     ------------------ --------------------- 20.0/42.5 MB 4.2 MB/s eta 0:00:06\n",
      "     ------------------- -------------------- 20.4/42.5 MB 4.2 MB/s eta 0:00:06\n",
      "     ------------------- -------------------- 20.6/42.5 MB 4.1 MB/s eta 0:00:06\n",
      "     ------------------- -------------------- 20.6/42.5 MB 4.1 MB/s eta 0:00:06\n",
      "     ------------------- -------------------- 20.6/42.5 MB 4.1 MB/s eta 0:00:06\n",
      "     ------------------- -------------------- 20.6/42.5 MB 4.1 MB/s eta 0:00:06\n",
      "     ------------------- -------------------- 20.6/42.5 MB 4.1 MB/s eta 0:00:06\n",
      "     ------------------- -------------------- 20.6/42.5 MB 4.1 MB/s eta 0:00:06\n",
      "     ------------------- -------------------- 20.7/42.5 MB 3.7 MB/s eta 0:00:06\n",
      "     ------------------- -------------------- 20.7/42.5 MB 3.7 MB/s eta 0:00:06\n",
      "     ------------------- -------------------- 20.7/42.5 MB 3.6 MB/s eta 0:00:07\n",
      "     ------------------- -------------------- 20.8/42.5 MB 3.5 MB/s eta 0:00:07\n",
      "     ------------------- -------------------- 21.0/42.5 MB 3.5 MB/s eta 0:00:07\n",
      "     -------------------- ------------------- 21.3/42.5 MB 3.5 MB/s eta 0:00:07\n",
      "     -------------------- ------------------- 21.7/42.5 MB 3.5 MB/s eta 0:00:06\n",
      "     -------------------- ------------------- 22.0/42.5 MB 3.5 MB/s eta 0:00:06\n",
      "     --------------------- ------------------ 22.5/42.5 MB 4.1 MB/s eta 0:00:05\n",
      "     --------------------- ------------------ 23.0/42.5 MB 4.2 MB/s eta 0:00:05\n",
      "     ---------------------- ----------------- 23.6/42.5 MB 4.3 MB/s eta 0:00:05\n",
      "     ---------------------- ----------------- 23.9/42.5 MB 4.4 MB/s eta 0:00:05\n",
      "     ---------------------- ----------------- 24.3/42.5 MB 4.4 MB/s eta 0:00:05\n",
      "     ----------------------- ---------------- 24.6/42.5 MB 4.4 MB/s eta 0:00:05\n",
      "     ----------------------- ---------------- 24.8/42.5 MB 4.3 MB/s eta 0:00:05\n",
      "     ----------------------- ---------------- 24.8/42.5 MB 4.3 MB/s eta 0:00:05\n",
      "     ----------------------- ---------------- 25.0/42.5 MB 4.2 MB/s eta 0:00:05\n",
      "     ----------------------- ---------------- 25.0/42.5 MB 4.2 MB/s eta 0:00:05\n",
      "     ----------------------- ---------------- 25.1/42.5 MB 4.1 MB/s eta 0:00:05\n",
      "     ----------------------- ---------------- 25.3/42.5 MB 4.1 MB/s eta 0:00:05\n",
      "     ----------------------- ---------------- 25.4/42.5 MB 4.0 MB/s eta 0:00:05\n",
      "     ------------------------ --------------- 25.5/42.5 MB 4.0 MB/s eta 0:00:05\n",
      "     ------------------------ --------------- 25.6/42.5 MB 3.9 MB/s eta 0:00:05\n",
      "     ------------------------ --------------- 25.8/42.5 MB 3.9 MB/s eta 0:00:05\n",
      "     ------------------------ --------------- 25.9/42.5 MB 3.9 MB/s eta 0:00:05\n",
      "     ------------------------ --------------- 26.1/42.5 MB 3.8 MB/s eta 0:00:05\n",
      "     ------------------------ --------------- 26.2/42.5 MB 3.8 MB/s eta 0:00:05\n",
      "     ------------------------ --------------- 26.4/42.5 MB 3.7 MB/s eta 0:00:05\n",
      "     ------------------------- -------------- 26.6/42.5 MB 3.7 MB/s eta 0:00:05\n",
      "     ------------------------- -------------- 26.8/42.5 MB 3.7 MB/s eta 0:00:05\n",
      "     ------------------------- -------------- 27.0/42.5 MB 4.3 MB/s eta 0:00:04\n",
      "     ------------------------- -------------- 27.2/42.5 MB 4.3 MB/s eta 0:00:04\n",
      "     ------------------------- -------------- 27.4/42.5 MB 4.3 MB/s eta 0:00:04\n",
      "     -------------------------- ------------- 27.6/42.5 MB 4.3 MB/s eta 0:00:04\n",
      "     -------------------------- ------------- 27.9/42.5 MB 4.3 MB/s eta 0:00:04\n",
      "     -------------------------- ------------- 28.1/42.5 MB 4.3 MB/s eta 0:00:04\n",
      "     -------------------------- ------------- 28.4/42.5 MB 4.3 MB/s eta 0:00:04\n",
      "     -------------------------- ------------- 28.6/42.5 MB 4.3 MB/s eta 0:00:04\n",
      "     --------------------------- ------------ 28.9/42.5 MB 4.3 MB/s eta 0:00:04\n",
      "     --------------------------- ------------ 29.1/42.5 MB 4.3 MB/s eta 0:00:04\n",
      "     --------------------------- ------------ 29.4/42.5 MB 4.3 MB/s eta 0:00:04\n",
      "     --------------------------- ------------ 29.7/42.5 MB 4.3 MB/s eta 0:00:04\n",
      "     ---------------------------- ----------- 30.0/42.5 MB 4.3 MB/s eta 0:00:03\n",
      "     ---------------------------- ----------- 30.3/42.5 MB 4.3 MB/s eta 0:00:03\n",
      "     ---------------------------- ----------- 30.7/42.5 MB 4.3 MB/s eta 0:00:03\n",
      "     ----------------------------- ---------- 31.0/42.5 MB 5.2 MB/s eta 0:00:03\n",
      "     ----------------------------- ---------- 31.3/42.5 MB 5.3 MB/s eta 0:00:03\n",
      "     ----------------------------- ---------- 31.7/42.5 MB 5.3 MB/s eta 0:00:03\n",
      "     ------------------------------ --------- 32.0/42.5 MB 5.3 MB/s eta 0:00:02\n",
      "     ------------------------------ --------- 32.4/42.5 MB 5.3 MB/s eta 0:00:02\n",
      "     ------------------------------ --------- 32.8/42.5 MB 5.2 MB/s eta 0:00:02\n",
      "     ------------------------------- -------- 33.1/42.5 MB 5.2 MB/s eta 0:00:02\n",
      "     ------------------------------- -------- 33.5/42.5 MB 5.2 MB/s eta 0:00:02\n",
      "     ------------------------------- -------- 33.9/42.5 MB 5.1 MB/s eta 0:00:02\n",
      "     -------------------------------- ------- 34.2/42.5 MB 5.2 MB/s eta 0:00:02\n",
      "     -------------------------------- ------- 34.5/42.5 MB 5.0 MB/s eta 0:00:02\n",
      "     -------------------------------- ------- 34.7/42.5 MB 5.0 MB/s eta 0:00:02\n",
      "     -------------------------------- ------- 34.9/42.5 MB 5.0 MB/s eta 0:00:02\n",
      "     --------------------------------- ------ 35.1/42.5 MB 5.1 MB/s eta 0:00:02\n",
      "     --------------------------------- ------ 35.3/42.5 MB 5.3 MB/s eta 0:00:02\n",
      "     --------------------------------- ------ 35.6/42.5 MB 5.5 MB/s eta 0:00:02\n",
      "     --------------------------------- ------ 35.8/42.5 MB 5.5 MB/s eta 0:00:02\n",
      "     --------------------------------- ------ 36.1/42.5 MB 5.7 MB/s eta 0:00:02\n",
      "     ---------------------------------- ----- 36.3/42.5 MB 5.8 MB/s eta 0:00:02\n",
      "     ---------------------------------- ----- 36.6/42.5 MB 5.9 MB/s eta 0:00:01\n",
      "     ---------------------------------- ----- 36.9/42.5 MB 6.0 MB/s eta 0:00:01\n",
      "     ---------------------------------- ----- 37.2/42.5 MB 6.0 MB/s eta 0:00:01\n",
      "     ----------------------------------- ---- 37.5/42.5 MB 6.1 MB/s eta 0:00:01\n",
      "     ----------------------------------- ---- 37.7/42.5 MB 6.2 MB/s eta 0:00:01\n",
      "     ----------------------------------- ---- 38.1/42.5 MB 6.2 MB/s eta 0:00:01\n",
      "     ------------------------------------ --- 38.4/42.5 MB 6.2 MB/s eta 0:00:01\n",
      "     ------------------------------------ --- 38.7/42.5 MB 6.4 MB/s eta 0:00:01\n",
      "     ------------------------------------ --- 39.0/42.5 MB 6.4 MB/s eta 0:00:01\n",
      "     ------------------------------------- -- 39.4/42.5 MB 6.4 MB/s eta 0:00:01\n",
      "     ------------------------------------- -- 39.7/42.5 MB 6.5 MB/s eta 0:00:01\n",
      "     ------------------------------------- -- 40.1/42.5 MB 6.5 MB/s eta 0:00:01\n",
      "     ------------------------------------- -- 40.3/42.5 MB 6.5 MB/s eta 0:00:01\n",
      "     -------------------------------------- - 40.5/42.5 MB 6.4 MB/s eta 0:00:01\n",
      "     -------------------------------------- - 40.6/42.5 MB 6.3 MB/s eta 0:00:01\n",
      "     -------------------------------------- - 40.7/42.5 MB 6.2 MB/s eta 0:00:01\n",
      "     -------------------------------------- - 40.9/42.5 MB 6.1 MB/s eta 0:00:01\n",
      "     -------------------------------------- - 41.0/42.5 MB 6.0 MB/s eta 0:00:01\n",
      "     -------------------------------------- - 41.1/42.5 MB 5.9 MB/s eta 0:00:01\n",
      "     -------------------------------------- - 41.3/42.5 MB 5.8 MB/s eta 0:00:01\n",
      "     ---------------------------------------  41.5/42.5 MB 5.7 MB/s eta 0:00:01\n",
      "     ---------------------------------------  41.6/42.5 MB 5.6 MB/s eta 0:00:01\n",
      "     ---------------------------------------  41.8/42.5 MB 5.6 MB/s eta 0:00:01\n",
      "     ---------------------------------------  42.0/42.5 MB 5.6 MB/s eta 0:00:01\n",
      "     ---------------------------------------  42.2/42.5 MB 5.5 MB/s eta 0:00:01\n",
      "     ---------------------------------------  42.4/42.5 MB 5.4 MB/s eta 0:00:01\n",
      "     ---------------------------------------  42.5/42.5 MB 5.4 MB/s eta 0:00:01\n",
      "     ---------------------------------------  42.5/42.5 MB 5.4 MB/s eta 0:00:01\n",
      "     ---------------------------------------  42.5/42.5 MB 5.4 MB/s eta 0:00:01\n",
      "     ---------------------------------------- 42.5/42.5 MB 5.0 MB/s eta 0:00:00\n",
      "Collecting threadpoolctl>=2.0.0\n",
      "  Downloading threadpoolctl-3.1.0-py3-none-any.whl (14 kB)\n",
      "Installing collected packages: threadpoolctl, scipy, joblib, scikit-learn\n",
      "Successfully installed joblib-1.2.0 scikit-learn-1.2.1 scipy-1.10.0 threadpoolctl-3.1.0\n"
     ]
    },
    {
     "name": "stdout",
     "output_type": "stream",
     "text": [
      "Requirement already satisfied: pandas in c:\\users\\mtnvd\\appdata\\local\\programs\\python\\python310\\lib\\site-packages (1.5.3)\n",
      "Requirement already satisfied: python-dateutil>=2.8.1 in c:\\users\\mtnvd\\appdata\\local\\programs\\python\\python310\\lib\\site-packages (from pandas) (2.8.2)\n",
      "Requirement already satisfied: numpy>=1.21.0 in c:\\users\\mtnvd\\appdata\\local\\programs\\python\\python310\\lib\\site-packages (from pandas) (1.24.2)\n",
      "Requirement already satisfied: pytz>=2020.1 in c:\\users\\mtnvd\\appdata\\local\\programs\\python\\python310\\lib\\site-packages (from pandas) (2022.7.1)\n",
      "Requirement already satisfied: six>=1.5 in c:\\users\\mtnvd\\appdata\\local\\programs\\python\\python310\\lib\\site-packages (from python-dateutil>=2.8.1->pandas) (1.16.0)\n"
     ]
    }
   ],
   "source": [
    "!pip install matplotlib\n",
    "!pip install numpy\n",
    "!pip install scikit-learn\n",
    "!pip install pandas"
   ]
  },
  {
   "cell_type": "code",
   "execution_count": 9,
   "id": "f184efd1",
   "metadata": {},
   "outputs": [],
   "source": [
    "import matplotlib.pyplot as plt\n",
    "import pandas as pd\n",
    "import numpy as np\n",
    "from sklearn.model_selection import train_test_split\n",
    "from sklearn.preprocessing import StandardScaler\n",
    "from sklearn.tree import DecisionTreeClassifier\n",
    "from sklearn.metrics import classification_report, confusion_matrix"
   ]
  },
  {
   "cell_type": "code",
   "execution_count": 10,
   "id": "67c6c392",
   "metadata": {},
   "outputs": [
    {
     "data": {
      "text/html": [
       "<div>\n",
       "<style scoped>\n",
       "    .dataframe tbody tr th:only-of-type {\n",
       "        vertical-align: middle;\n",
       "    }\n",
       "\n",
       "    .dataframe tbody tr th {\n",
       "        vertical-align: top;\n",
       "    }\n",
       "\n",
       "    .dataframe thead th {\n",
       "        text-align: right;\n",
       "    }\n",
       "</style>\n",
       "<table border=\"1\" class=\"dataframe\">\n",
       "  <thead>\n",
       "    <tr style=\"text-align: right;\">\n",
       "      <th></th>\n",
       "      <th>Id</th>\n",
       "      <th>SepalLengthCm</th>\n",
       "      <th>SepalWidthCm</th>\n",
       "      <th>PetalLengthCm</th>\n",
       "      <th>PetalWidthCm</th>\n",
       "      <th>Species</th>\n",
       "    </tr>\n",
       "  </thead>\n",
       "  <tbody>\n",
       "    <tr>\n",
       "      <th>0</th>\n",
       "      <td>1</td>\n",
       "      <td>5.1</td>\n",
       "      <td>3.5</td>\n",
       "      <td>1.4</td>\n",
       "      <td>0.2</td>\n",
       "      <td>Iris-setosa</td>\n",
       "    </tr>\n",
       "    <tr>\n",
       "      <th>1</th>\n",
       "      <td>2</td>\n",
       "      <td>4.9</td>\n",
       "      <td>3.0</td>\n",
       "      <td>1.4</td>\n",
       "      <td>0.2</td>\n",
       "      <td>Iris-setosa</td>\n",
       "    </tr>\n",
       "    <tr>\n",
       "      <th>2</th>\n",
       "      <td>3</td>\n",
       "      <td>4.7</td>\n",
       "      <td>3.2</td>\n",
       "      <td>1.3</td>\n",
       "      <td>0.2</td>\n",
       "      <td>Iris-setosa</td>\n",
       "    </tr>\n",
       "    <tr>\n",
       "      <th>3</th>\n",
       "      <td>4</td>\n",
       "      <td>4.6</td>\n",
       "      <td>3.1</td>\n",
       "      <td>1.5</td>\n",
       "      <td>0.2</td>\n",
       "      <td>Iris-setosa</td>\n",
       "    </tr>\n",
       "    <tr>\n",
       "      <th>4</th>\n",
       "      <td>5</td>\n",
       "      <td>5.0</td>\n",
       "      <td>3.6</td>\n",
       "      <td>1.4</td>\n",
       "      <td>0.2</td>\n",
       "      <td>Iris-setosa</td>\n",
       "    </tr>\n",
       "  </tbody>\n",
       "</table>\n",
       "</div>"
      ],
      "text/plain": [
       "   Id  SepalLengthCm  SepalWidthCm  PetalLengthCm  PetalWidthCm      Species\n",
       "0   1            5.1           3.5            1.4           0.2  Iris-setosa\n",
       "1   2            4.9           3.0            1.4           0.2  Iris-setosa\n",
       "2   3            4.7           3.2            1.3           0.2  Iris-setosa\n",
       "3   4            4.6           3.1            1.5           0.2  Iris-setosa\n",
       "4   5            5.0           3.6            1.4           0.2  Iris-setosa"
      ]
     },
     "execution_count": 10,
     "metadata": {},
     "output_type": "execute_result"
    }
   ],
   "source": [
    "data=pd.read_csv(\"Iris.csv\")\n",
    "data.head()"
   ]
  },
  {
   "cell_type": "code",
   "execution_count": 11,
   "id": "baa2f6c3",
   "metadata": {},
   "outputs": [
    {
     "name": "stdout",
     "output_type": "stream",
     "text": [
      "<class 'pandas.core.frame.DataFrame'>\n",
      "RangeIndex: 150 entries, 0 to 149\n",
      "Data columns (total 6 columns):\n",
      " #   Column         Non-Null Count  Dtype  \n",
      "---  ------         --------------  -----  \n",
      " 0   Id             150 non-null    int64  \n",
      " 1   SepalLengthCm  150 non-null    float64\n",
      " 2   SepalWidthCm   150 non-null    float64\n",
      " 3   PetalLengthCm  150 non-null    float64\n",
      " 4   PetalWidthCm   150 non-null    float64\n",
      " 5   Species        150 non-null    object \n",
      "dtypes: float64(4), int64(1), object(1)\n",
      "memory usage: 7.2+ KB\n"
     ]
    }
   ],
   "source": [
    "data.info()"
   ]
  },
  {
   "cell_type": "code",
   "execution_count": 12,
   "id": "7a18e348",
   "metadata": {},
   "outputs": [],
   "source": [
    "X = data.drop('Species', axis=1).values\n",
    "y = data['Species'].values"
   ]
  },
  {
   "cell_type": "code",
   "execution_count": 13,
   "id": "42c5ac24",
   "metadata": {},
   "outputs": [],
   "source": [
    "X_train, X_test, y_train, y_test =train_test_split(X, y, test_size=0.02, random_state=0)"
   ]
  },
  {
   "cell_type": "code",
   "execution_count": 14,
   "id": "a6a83b13",
   "metadata": {},
   "outputs": [],
   "source": [
    "scaler = StandardScaler()\n",
    "X_train = scaler.fit_transform(X_train)"
   ]
  },
  {
   "cell_type": "code",
   "execution_count": 15,
   "id": "8a1fba58",
   "metadata": {},
   "outputs": [
    {
     "data": {
      "text/html": [
       "<style>#sk-container-id-1 {color: black;background-color: white;}#sk-container-id-1 pre{padding: 0;}#sk-container-id-1 div.sk-toggleable {background-color: white;}#sk-container-id-1 label.sk-toggleable__label {cursor: pointer;display: block;width: 100%;margin-bottom: 0;padding: 0.3em;box-sizing: border-box;text-align: center;}#sk-container-id-1 label.sk-toggleable__label-arrow:before {content: \"▸\";float: left;margin-right: 0.25em;color: #696969;}#sk-container-id-1 label.sk-toggleable__label-arrow:hover:before {color: black;}#sk-container-id-1 div.sk-estimator:hover label.sk-toggleable__label-arrow:before {color: black;}#sk-container-id-1 div.sk-toggleable__content {max-height: 0;max-width: 0;overflow: hidden;text-align: left;background-color: #f0f8ff;}#sk-container-id-1 div.sk-toggleable__content pre {margin: 0.2em;color: black;border-radius: 0.25em;background-color: #f0f8ff;}#sk-container-id-1 input.sk-toggleable__control:checked~div.sk-toggleable__content {max-height: 200px;max-width: 100%;overflow: auto;}#sk-container-id-1 input.sk-toggleable__control:checked~label.sk-toggleable__label-arrow:before {content: \"▾\";}#sk-container-id-1 div.sk-estimator input.sk-toggleable__control:checked~label.sk-toggleable__label {background-color: #d4ebff;}#sk-container-id-1 div.sk-label input.sk-toggleable__control:checked~label.sk-toggleable__label {background-color: #d4ebff;}#sk-container-id-1 input.sk-hidden--visually {border: 0;clip: rect(1px 1px 1px 1px);clip: rect(1px, 1px, 1px, 1px);height: 1px;margin: -1px;overflow: hidden;padding: 0;position: absolute;width: 1px;}#sk-container-id-1 div.sk-estimator {font-family: monospace;background-color: #f0f8ff;border: 1px dotted black;border-radius: 0.25em;box-sizing: border-box;margin-bottom: 0.5em;}#sk-container-id-1 div.sk-estimator:hover {background-color: #d4ebff;}#sk-container-id-1 div.sk-parallel-item::after {content: \"\";width: 100%;border-bottom: 1px solid gray;flex-grow: 1;}#sk-container-id-1 div.sk-label:hover label.sk-toggleable__label {background-color: #d4ebff;}#sk-container-id-1 div.sk-serial::before {content: \"\";position: absolute;border-left: 1px solid gray;box-sizing: border-box;top: 0;bottom: 0;left: 50%;z-index: 0;}#sk-container-id-1 div.sk-serial {display: flex;flex-direction: column;align-items: center;background-color: white;padding-right: 0.2em;padding-left: 0.2em;position: relative;}#sk-container-id-1 div.sk-item {position: relative;z-index: 1;}#sk-container-id-1 div.sk-parallel {display: flex;align-items: stretch;justify-content: center;background-color: white;position: relative;}#sk-container-id-1 div.sk-item::before, #sk-container-id-1 div.sk-parallel-item::before {content: \"\";position: absolute;border-left: 1px solid gray;box-sizing: border-box;top: 0;bottom: 0;left: 50%;z-index: -1;}#sk-container-id-1 div.sk-parallel-item {display: flex;flex-direction: column;z-index: 1;position: relative;background-color: white;}#sk-container-id-1 div.sk-parallel-item:first-child::after {align-self: flex-end;width: 50%;}#sk-container-id-1 div.sk-parallel-item:last-child::after {align-self: flex-start;width: 50%;}#sk-container-id-1 div.sk-parallel-item:only-child::after {width: 0;}#sk-container-id-1 div.sk-dashed-wrapped {border: 1px dashed gray;margin: 0 0.4em 0.5em 0.4em;box-sizing: border-box;padding-bottom: 0.4em;background-color: white;}#sk-container-id-1 div.sk-label label {font-family: monospace;font-weight: bold;display: inline-block;line-height: 1.2em;}#sk-container-id-1 div.sk-label-container {text-align: center;}#sk-container-id-1 div.sk-container {/* jupyter's `normalize.less` sets `[hidden] { display: none; }` but bootstrap.min.css set `[hidden] { display: none !important; }` so we also need the `!important` here to be able to override the default hidden behavior on the sphinx rendered scikit-learn.org. See: https://github.com/scikit-learn/scikit-learn/issues/21755 */display: inline-block !important;position: relative;}#sk-container-id-1 div.sk-text-repr-fallback {display: none;}</style><div id=\"sk-container-id-1\" class=\"sk-top-container\"><div class=\"sk-text-repr-fallback\"><pre>DecisionTreeClassifier()</pre><b>In a Jupyter environment, please rerun this cell to show the HTML representation or trust the notebook. <br />On GitHub, the HTML representation is unable to render, please try loading this page with nbviewer.org.</b></div><div class=\"sk-container\" hidden><div class=\"sk-item\"><div class=\"sk-estimator sk-toggleable\"><input class=\"sk-toggleable__control sk-hidden--visually\" id=\"sk-estimator-id-1\" type=\"checkbox\" checked><label for=\"sk-estimator-id-1\" class=\"sk-toggleable__label sk-toggleable__label-arrow\">DecisionTreeClassifier</label><div class=\"sk-toggleable__content\"><pre>DecisionTreeClassifier()</pre></div></div></div></div></div>"
      ],
      "text/plain": [
       "DecisionTreeClassifier()"
      ]
     },
     "execution_count": 15,
     "metadata": {},
     "output_type": "execute_result"
    }
   ],
   "source": [
    "model = DecisionTreeClassifier()\n",
    "model.fit(X_train, y_train)"
   ]
  },
  {
   "cell_type": "code",
   "execution_count": 16,
   "id": "65766fe7",
   "metadata": {},
   "outputs": [],
   "source": [
    "X_test = scaler.transform(X_test)\n",
    "y_pred = model.predict(X_test)"
   ]
  },
  {
   "cell_type": "code",
   "execution_count": 17,
   "id": "8cd08d9d",
   "metadata": {},
   "outputs": [
    {
     "data": {
      "text/plain": [
       "1.0"
      ]
     },
     "execution_count": 17,
     "metadata": {},
     "output_type": "execute_result"
    }
   ],
   "source": [
    "model.score(X_train, y_train)"
   ]
  },
  {
   "cell_type": "code",
   "execution_count": 18,
   "id": "ad2d69e2",
   "metadata": {},
   "outputs": [
    {
     "data": {
      "text/plain": [
       "1.0"
      ]
     },
     "execution_count": 18,
     "metadata": {},
     "output_type": "execute_result"
    }
   ],
   "source": [
    "model.score(X_test, y_test)"
   ]
  },
  {
   "cell_type": "code",
   "execution_count": 19,
   "id": "082c4a18",
   "metadata": {},
   "outputs": [
    {
     "data": {
      "text/plain": [
       "array([[1, 0, 0],\n",
       "       [0, 1, 0],\n",
       "       [0, 0, 1]], dtype=int64)"
      ]
     },
     "execution_count": 19,
     "metadata": {},
     "output_type": "execute_result"
    }
   ],
   "source": [
    "confusion_matrix(y_test, y_pred)"
   ]
  },
  {
   "cell_type": "code",
   "execution_count": 20,
   "id": "1ca82f16",
   "metadata": {},
   "outputs": [
    {
     "name": "stdout",
     "output_type": "stream",
     "text": [
      "                 precision    recall  f1-score   support\n",
      "\n",
      "    Iris-setosa       1.00      1.00      1.00         1\n",
      "Iris-versicolor       1.00      1.00      1.00         1\n",
      " Iris-virginica       1.00      1.00      1.00         1\n",
      "\n",
      "       accuracy                           1.00         3\n",
      "      macro avg       1.00      1.00      1.00         3\n",
      "   weighted avg       1.00      1.00      1.00         3\n",
      "\n"
     ]
    }
   ],
   "source": [
    "print(classification_report(y_test, y_pred))"
   ]
  },
  {
   "cell_type": "code",
   "execution_count": null,
   "id": "950e0bca",
   "metadata": {},
   "outputs": [],
   "source": []
  }
 ],
 "metadata": {
  "kernelspec": {
   "display_name": "Python 3 (ipykernel)",
   "language": "python",
   "name": "python3"
  },
  "language_info": {
   "codemirror_mode": {
    "name": "ipython",
    "version": 3
   },
   "file_extension": ".py",
   "mimetype": "text/x-python",
   "name": "python",
   "nbconvert_exporter": "python",
   "pygments_lexer": "ipython3",
   "version": "3.10.10"
  }
 },
 "nbformat": 4,
 "nbformat_minor": 5
}
